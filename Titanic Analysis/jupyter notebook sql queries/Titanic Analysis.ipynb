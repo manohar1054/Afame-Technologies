{
 "cells": [
  {
   "cell_type": "code",
   "execution_count": 1,
   "id": "918fab85-d8b8-4ff9-a1e0-6104591585ca",
   "metadata": {},
   "outputs": [
    {
     "name": "stderr",
     "output_type": "stream",
     "text": [
      "UsageError: Line magic function `%sql` not found.\n"
     ]
    }
   ],
   "source": [
    "%sql mssql+pyodbc://@DESKTOP-39CALVC\\\\LENOVO/TITANIC?driver=ODBC+Driver+17+for+SQL+Server&trusted_connection=yes\n"
   ]
  },
  {
   "cell_type": "code",
   "execution_count": null,
   "id": "2ca98d4b-a982-4bc4-b01c-b72b8b743e05",
   "metadata": {},
   "outputs": [],
   "source": []
  }
 ],
 "metadata": {
  "kernelspec": {
   "display_name": "Python 3 (ipykernel)",
   "language": "python",
   "name": "python3"
  },
  "language_info": {
   "codemirror_mode": {
    "name": "ipython",
    "version": 3
   },
   "file_extension": ".py",
   "mimetype": "text/x-python",
   "name": "python",
   "nbconvert_exporter": "python",
   "pygments_lexer": "ipython3",
   "version": "3.13.3"
  }
 },
 "nbformat": 4,
 "nbformat_minor": 5
}
